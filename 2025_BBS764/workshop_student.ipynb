{
 "cells": [
  {
   "cell_type": "markdown",
   "metadata": {
    "slideshow": {
     "slide_type": "slide"
    }
   },
   "source": [
    "# Gene Regulation III - Workshop\n",
    "## *aka* Gene Regulatory Network (GRN)\n",
    "UMass Chan GSBS BBS764\n",
    "\n",
    "*Lingfei Wang*\n",
    "\n",
    "2025-03-03"
   ]
  },
  {
   "cell_type": "markdown",
   "metadata": {
    "slideshow": {
     "slide_type": "subslide"
    }
   },
   "source": [
    "## Introduction\n",
    "* Paper: [Gene regulatory network inference from CRISPR perturbations in primary CD4+ T cells elucidates the genomic basis of immune disease](https://www.cell.com/cell-genomics/fulltext/S2666-979X\\(24\\)00290-8).\n",
    "* Study design: Bulk RNA-seq of samples with CRISPR targeted KO on select genes and control.\n",
    "* Data: tsv.gz file containing differential expression results between samples with each target gene KOed (3 samples each) and the same control (27 samples). Preprocessed from supplementary material of its [biorxiv preprint](https://www.biorxiv.org/content/10.1101/2023.09.17.557749v2.supplementary-material).\n",
    "* Goal:\tReconstructing a gene regulatory network with causal inference."
   ]
  },
  {
   "cell_type": "markdown",
   "metadata": {
    "slideshow": {
     "slide_type": "subslide"
    }
   },
   "source": [
    "## Practicalities\n",
    "* No attendance sheet requirement: if uninterested/not useful/done, **leave any time**.\n",
    "* **Open the slides** and download and open the notebook. Use the slides for reference.\n",
    "* You task is to read, understand, write when needed, and run each code block sequentially.\n",
    "* You should write the '???' areas in two types:\n",
    "  1. Single-line code starting with `##### Your code:`. Remove characters before and including ':'. Extra lines is not needed but allowed.\n",
    "  2. Multi-line code starting with `#### Your code starts here ####` and ends with `##### Your code ends here #####`\n",
    "* If your code is correct, you should get the same output as in the slides.\n",
    "* **Keep going** for 1.5h or until you complete the final slide.\n",
    "* I am available to answer questions any time."
   ]
  },
  {
   "cell_type": "markdown",
   "metadata": {
    "slideshow": {
     "slide_type": "subslide"
    }
   },
   "source": [
    "## How: imagine you are doing research\n",
    "* First learn to DIY: google, github copilot & ChatGPT\n",
    "* Then ask someone who might have completed this code block. **Move around if needed**.\n",
    "* If everything fails, ask me.\n",
    "* The right (*aka* working) solution is not unique."
   ]
  },
  {
   "cell_type": "markdown",
   "metadata": {
    "slideshow": {
     "slide_type": "subslide"
    }
   },
   "source": [
    "## TOC\n",
    "Hypothesis: $P$-|$A$->$B$ or $P$-|$A$-|$B$\n",
    "1. Load differential expression (DE) results\n",
    "2. List CRISPR perturbations $\\{P_A\\}$, each targeting a KOed gene $A$\n",
    "3. For each perturbation $P_A$, check $P_A$-|$A$ in DE results and retain only if $P_A$ gives significant repression\n",
    "4. For each remaining perturbation $P_A$ and each gene B, if $P_A$->$B$ or $P_A$-|$B$ in DE results, introduce edge $A$-|$B$ or $A$->$B$ into our network\n",
    "5. Save network to file\n",
    "6. Analyze network\n",
    "7. Visualize network with Cytoscape"
   ]
  },
  {
   "cell_type": "markdown",
   "metadata": {
    "slideshow": {
     "slide_type": "subslide"
    }
   },
   "source": [
    "## 0. Preparation\n",
    "1. Create folder `run` in the same directory as this notebook.\n",
    "2. Download `https://raw.githubusercontent.com/grnlab/courses/refs/heads/master/2025_BBS764/run/processed.tsv.gz` into folder `run` and name it as `processed.tsv.gz`."
   ]
  },
  {
   "cell_type": "code",
   "execution_count": 1,
   "metadata": {},
   "outputs": [],
   "source": [
    "from os.path import isfile\n",
    "import numpy as np\n",
    "import pandas as pd\n",
    "import networkx as nx\n",
    "import matplotlib.pyplot as plt\n",
    "# Input and output file paths\n",
    "path_in='run/processed.tsv.gz'\n",
    "path_out='run/grn.tsv'\n",
    "# Check if input file exists\n",
    "if not isfile(path_in):\n",
    "\traise NotImplementedError(f\"File {path_in} not found.\")"
   ]
  },
  {
   "cell_type": "markdown",
   "metadata": {
    "slideshow": {
     "slide_type": "slide"
    }
   },
   "source": [
    "## 1. Load DE results"
   ]
  },
  {
   "cell_type": "code",
   "execution_count": 2,
   "metadata": {},
   "outputs": [
    {
     "data": {
      "text/html": [
       "<div>\n",
       "<style scoped>\n",
       "    .dataframe tbody tr th:only-of-type {\n",
       "        vertical-align: middle;\n",
       "    }\n",
       "\n",
       "    .dataframe tbody tr th {\n",
       "        vertical-align: top;\n",
       "    }\n",
       "\n",
       "    .dataframe thead th {\n",
       "        text-align: right;\n",
       "    }\n",
       "</style>\n",
       "<table border=\"1\" class=\"dataframe\">\n",
       "  <thead>\n",
       "    <tr style=\"text-align: right;\">\n",
       "      <th></th>\n",
       "      <th>gene</th>\n",
       "      <th>target</th>\n",
       "      <th>p</th>\n",
       "      <th>lfc</th>\n",
       "    </tr>\n",
       "  </thead>\n",
       "  <tbody>\n",
       "    <tr>\n",
       "      <th>0</th>\n",
       "      <td>ISG15</td>\n",
       "      <td>AKAP8</td>\n",
       "      <td>0.385355</td>\n",
       "      <td>-0.251955</td>\n",
       "    </tr>\n",
       "    <tr>\n",
       "      <th>1</th>\n",
       "      <td>ACOT7</td>\n",
       "      <td>AKAP8</td>\n",
       "      <td>0.349425</td>\n",
       "      <td>-0.264555</td>\n",
       "    </tr>\n",
       "    <tr>\n",
       "      <th>2</th>\n",
       "      <td>TNFRSF25</td>\n",
       "      <td>AKAP8</td>\n",
       "      <td>0.277335</td>\n",
       "      <td>0.236204</td>\n",
       "    </tr>\n",
       "  </tbody>\n",
       "</table>\n",
       "</div>"
      ],
      "text/plain": [
       "       gene target         p       lfc\n",
       "0     ISG15  AKAP8  0.385355 -0.251955\n",
       "1     ACOT7  AKAP8  0.349425 -0.264555\n",
       "2  TNFRSF25  AKAP8  0.277335  0.236204"
      ]
     },
     "execution_count": 2,
     "metadata": {},
     "output_type": "execute_result"
    }
   ],
   "source": [
    "#### Your code:df=pd.read_csv(???)\n",
    "df.head(3)"
   ]
  },
  {
   "cell_type": "markdown",
   "metadata": {},
   "source": [
    "Column definitions\n",
    "* gene: The gene whose differential expression results are shown on this row.\n",
    "* target: This row includes differential expression results computed between samples with this gene targeted for KO v.s. controls.\n",
    "* p: Differential expression P-value. For the perturbed gene (when column `gene` is the same as `target`), this is raw P-value. For other genes, this is adjusted P-value.\n",
    "* lfc: Differential expression log2 fold change."
   ]
  },
  {
   "cell_type": "markdown",
   "metadata": {
    "slideshow": {
     "slide_type": "slide"
    }
   },
   "source": [
    "## 2. List perturbations and DE results of associated genes"
   ]
  },
  {
   "cell_type": "code",
   "execution_count": 3,
   "metadata": {},
   "outputs": [
    {
     "data": {
      "text/html": [
       "<div>\n",
       "<style scoped>\n",
       "    .dataframe tbody tr th:only-of-type {\n",
       "        vertical-align: middle;\n",
       "    }\n",
       "\n",
       "    .dataframe tbody tr th {\n",
       "        vertical-align: top;\n",
       "    }\n",
       "\n",
       "    .dataframe thead th {\n",
       "        text-align: right;\n",
       "    }\n",
       "</style>\n",
       "<table border=\"1\" class=\"dataframe\">\n",
       "  <thead>\n",
       "    <tr style=\"text-align: right;\">\n",
       "      <th></th>\n",
       "      <th>p</th>\n",
       "      <th>lfc</th>\n",
       "    </tr>\n",
       "    <tr>\n",
       "      <th>target</th>\n",
       "      <th></th>\n",
       "      <th></th>\n",
       "    </tr>\n",
       "  </thead>\n",
       "  <tbody>\n",
       "    <tr>\n",
       "      <th>AKAP8</th>\n",
       "      <td>3.611740e-14</td>\n",
       "      <td>-0.831944</td>\n",
       "    </tr>\n",
       "    <tr>\n",
       "      <th>ARID5A</th>\n",
       "      <td>2.570915e-02</td>\n",
       "      <td>0.274388</td>\n",
       "    </tr>\n",
       "    <tr>\n",
       "      <th>ATXN7L3</th>\n",
       "      <td>2.849576e-03</td>\n",
       "      <td>0.242471</td>\n",
       "    </tr>\n",
       "    <tr>\n",
       "      <th>BPTF</th>\n",
       "      <td>1.747578e-36</td>\n",
       "      <td>-0.778508</td>\n",
       "    </tr>\n",
       "    <tr>\n",
       "      <th>CBFB</th>\n",
       "      <td>1.005515e-153</td>\n",
       "      <td>-1.723185</td>\n",
       "    </tr>\n",
       "    <tr>\n",
       "      <th>...</th>\n",
       "      <td>...</td>\n",
       "      <td>...</td>\n",
       "    </tr>\n",
       "    <tr>\n",
       "      <th>ZKSCAN1</th>\n",
       "      <td>2.101872e-30</td>\n",
       "      <td>-1.034257</td>\n",
       "    </tr>\n",
       "    <tr>\n",
       "      <th>ZNF217</th>\n",
       "      <td>1.588385e-27</td>\n",
       "      <td>-0.845768</td>\n",
       "    </tr>\n",
       "    <tr>\n",
       "      <th>ZNF319</th>\n",
       "      <td>3.180268e-14</td>\n",
       "      <td>0.900860</td>\n",
       "    </tr>\n",
       "    <tr>\n",
       "      <th>ZNF341</th>\n",
       "      <td>3.103559e-03</td>\n",
       "      <td>0.795138</td>\n",
       "    </tr>\n",
       "    <tr>\n",
       "      <th>ZNF655</th>\n",
       "      <td>2.228071e-03</td>\n",
       "      <td>0.197382</td>\n",
       "    </tr>\n",
       "  </tbody>\n",
       "</table>\n",
       "<p>67 rows \u00d7 2 columns</p>\n",
       "</div>"
      ],
      "text/plain": [
       "                     p       lfc\n",
       "target                          \n",
       "AKAP8     3.611740e-14 -0.831944\n",
       "ARID5A    2.570915e-02  0.274388\n",
       "ATXN7L3   2.849576e-03  0.242471\n",
       "BPTF      1.747578e-36 -0.778508\n",
       "CBFB     1.005515e-153 -1.723185\n",
       "...                ...       ...\n",
       "ZKSCAN1   2.101872e-30 -1.034257\n",
       "ZNF217    1.588385e-27 -0.845768\n",
       "ZNF319    3.180268e-14  0.900860\n",
       "ZNF341    3.103559e-03  0.795138\n",
       "ZNF655    2.228071e-03  0.197382\n",
       "\n",
       "[67 rows x 2 columns]"
      ]
     },
     "execution_count": 3,
     "metadata": {},
     "output_type": "execute_result"
    }
   ],
   "source": [
    "# Whether each row is the DE results of a gene targeted by the CRISPR KO\n",
    "#### Your code:is_target=???\n",
    "# Extract DE results of targeted genes\n",
    "df_target_initial=df[is_target].set_index('target',drop=True).drop(columns=['gene'])\n",
    "df_target_initial"
   ]
  },
  {
   "cell_type": "markdown",
   "metadata": {
    "slideshow": {
     "slide_type": "slide"
    }
   },
   "source": [
    "## 3. Check $P_A-|A$ visually with volcano plot"
   ]
  },
  {
   "cell_type": "code",
   "execution_count": 4,
   "metadata": {},
   "outputs": [
    {
     "data": {
      "image/png": "[encoded data removed]",
      "text/plain": [
       "<Figure size 300x250 with 1 Axes>"
      ]
     },
     "metadata": {},
     "output_type": "display_data"
    }
   ],
   "source": [
    "fig,ax=plt.subplots(figsize=(3,2.5))\n",
    "# Draw scatter plot of log2 fold change vs -log10(p-value)\n",
    "#### Your code:ax.scatter(???,s=10)\n",
    "ax.set_xlabel('log2 fold change');ax.set_ylabel('-log10(p-value)')\n",
    "ax.set_title('Differential expression of perturbed genes'); plt.show()\n"
   ]
  },
  {
   "cell_type": "markdown",
   "metadata": {},
   "source": [
    "Some CRISPR KO perturbations may be ineffective with lfc>0 or large P-value. We will remove them."
   ]
  },
  {
   "cell_type": "markdown",
   "metadata": {
    "slideshow": {
     "slide_type": "subslide"
    }
   },
   "source": [
    "## 3. Find perturbations with significant repression"
   ]
  },
  {
   "cell_type": "code",
   "execution_count": 5,
   "metadata": {},
   "outputs": [
    {
     "data": {
      "text/plain": [
       "Index(['AKAP8', 'BPTF', 'CBFB', 'CLOCK', 'ELK4', 'EPAS1', 'ETS1', 'FOXK1',\n",
       "       'FOXP1', 'GATA3', 'IL2RA', 'IRF2', 'JAK3', 'KLF9', 'KMT2A', 'MBD2',\n",
       "       'MED12', 'NFE2L3', 'NFKB1', 'PTEN', 'REL', 'RELA', 'RELB', 'RORC',\n",
       "       'SETDB1', 'SREBF1', 'STAT1', 'STAT2', 'STAT3', 'STAT5A', 'STAT5B',\n",
       "       'TBX21', 'TCF3', 'TP53', 'TTF1', 'YBX1', 'YY1', 'ZBTB24', 'ZKSCAN1',\n",
       "       'ZNF217'],\n",
       "      dtype='object', name='target')"
      ]
     },
     "execution_count": 5,
     "metadata": {},
     "output_type": "execute_result"
    }
   ],
   "source": [
    "# Raw P value cutoff for differential expression of targeted gene A\n",
    "cut_p_target=1E-5\n",
    "# LogFC cutoff for differential expression of targeted gene A\n",
    "cut_lfc_target=0.5\n",
    "# Identify perturbations leading to significant repression of the targeted gene\n",
    "#### Your code:is_repression=(df_target_initial['p']<=???)&(???)\n",
    "# Extract perturbations leading to significant repression\n",
    "targets=df_target_initial.index[is_repression]\n",
    "targets"
   ]
  },
  {
   "cell_type": "markdown",
   "metadata": {
    "slideshow": {
     "slide_type": "subslide"
    }
   },
   "source": [
    "## 3. Retain perturbations with significant repression"
   ]
  },
  {
   "cell_type": "code",
   "execution_count": 6,
   "metadata": {},
   "outputs": [
    {
     "data": {
      "text/plain": [
       "(67305, 4)"
      ]
     },
     "execution_count": 6,
     "metadata": {},
     "output_type": "execute_result"
    }
   ],
   "source": [
    "# Filter DE results of targeted genes with perturbations leading to significant repression\n",
    "df_target=df_target_initial.loc[targets]\n",
    "# Filter DE results of untargeted genes with perturbations leading to significant repression\n",
    "#### Your code:df=df[???]\n",
    "df.shape"
   ]
  },
  {
   "cell_type": "markdown",
   "metadata": {
    "slideshow": {
     "slide_type": "slide"
    }
   },
   "source": [
    "## 4. Test $P_A$->$B$ or $P_A$-|$B$ - parameters"
   ]
  },
  {
   "cell_type": "code",
   "execution_count": 7,
   "metadata": {},
   "outputs": [],
   "source": [
    "# Adjusted P value cutoff for differential expression of untargeted genes\n",
    "cut_p=0.05\n",
    "# LogFC cutoff for differential expression of untargeted genes\n",
    "cut_lfc=0.5"
   ]
  },
  {
   "cell_type": "markdown",
   "metadata": {
    "slideshow": {
     "slide_type": "subslide"
    }
   },
   "source": [
    "## 4. Test $P_A$->$B$ or $P_A$-|$B$ - 1 perturbation\n",
    "Part I: Extracting DE results for this perturbation"
   ]
  },
  {
   "cell_type": "code",
   "execution_count": 8,
   "metadata": {},
   "outputs": [
    {
     "name": "stdout",
     "output_type": "stream",
     "text": [
      "p      3.611740e-14\n",
      "lfc   -8.319442e-01\n",
      "Name: AKAP8, dtype: float64\n"
     ]
    },
    {
     "data": {
      "text/html": [
       "<div>\n",
       "<style scoped>\n",
       "    .dataframe tbody tr th:only-of-type {\n",
       "        vertical-align: middle;\n",
       "    }\n",
       "\n",
       "    .dataframe tbody tr th {\n",
       "        vertical-align: top;\n",
       "    }\n",
       "\n",
       "    .dataframe thead th {\n",
       "        text-align: right;\n",
       "    }\n",
       "</style>\n",
       "<table border=\"1\" class=\"dataframe\">\n",
       "  <thead>\n",
       "    <tr style=\"text-align: right;\">\n",
       "      <th></th>\n",
       "      <th>gene</th>\n",
       "      <th>target</th>\n",
       "      <th>p</th>\n",
       "      <th>lfc</th>\n",
       "    </tr>\n",
       "  </thead>\n",
       "  <tbody>\n",
       "    <tr>\n",
       "      <th>0</th>\n",
       "      <td>ISG15</td>\n",
       "      <td>AKAP8</td>\n",
       "      <td>0.385355</td>\n",
       "      <td>-0.251955</td>\n",
       "    </tr>\n",
       "    <tr>\n",
       "      <th>1</th>\n",
       "      <td>ACOT7</td>\n",
       "      <td>AKAP8</td>\n",
       "      <td>0.349425</td>\n",
       "      <td>-0.264555</td>\n",
       "    </tr>\n",
       "  </tbody>\n",
       "</table>\n",
       "</div>"
      ],
      "text/plain": [
       "    gene target         p       lfc\n",
       "0  ISG15  AKAP8  0.385355 -0.251955\n",
       "1  ACOT7  AKAP8  0.349425 -0.264555"
      ]
     },
     "execution_count": 8,
     "metadata": {},
     "output_type": "execute_result"
    }
   ],
   "source": [
    "# Initialize empty list of edges\n",
    "edges=[]\n",
    "# Use the first targeted gene to try your code\n",
    "target=targets[0]\n",
    "# Extract differential expression results for the targeted gene\n",
    "#### Your code: s_target=???\n",
    "# Extract differential expression results for the first perturbation\n",
    "#### Your code:df1=df[???]\n",
    "# Extract differential expression results for untargeted genes\n",
    "#### Your code: df1_other=df1[???]\n",
    "print(s_target)\n",
    "df1_other.head(2)"
   ]
  },
  {
   "cell_type": "markdown",
   "metadata": {
    "slideshow": {
     "slide_type": "subslide"
    }
   },
   "source": [
    "## 4. Test $P_A$->$B$ or $P_A$-|$B$ - 1 perturbation\n",
    "Part II: finding significant DEs"
   ]
  },
  {
   "cell_type": "code",
   "execution_count": 9,
   "metadata": {},
   "outputs": [
    {
     "name": "stdout",
     "output_type": "stream",
     "text": [
      "Number of edges: 2\n"
     ]
    },
    {
     "data": {
      "text/plain": [
       "[('AKAP8', 'TSC22D4', np.float64(-0.6880808472308385)),\n",
       " ('AKAP8', 'FRMD8', np.float64(0.6606878405909893))]"
      ]
     },
     "execution_count": 9,
     "metadata": {},
     "output_type": "execute_result"
    }
   ],
   "source": [
    "# Identify which genes are differentially expressed due to the perturbation\n",
    "#### Your code:is_de=(???)&(???)\n",
    "# Extract differentially expressed genes due to this perturbation\n",
    "df1_de=df1_other[is_de]\n",
    "# Use a loop to create edges in the GRN, one at a time iteratively from the targeted gene to each differentially expressed gene\n",
    "for idx in df1_de.index:\n",
    "\t# Starting node of the edge\n",
    "\t#### Your code:node_start=???\n",
    "\t# Ending node of the edge\n",
    "\t#### Your code:node_end=???\n",
    "\t# Weight of the edge\n",
    "\t#### Your code:edge_weight=???\n",
    "\t# Add the edge\n",
    "\tedges.append((node_start,node_end,edge_weight))\n",
    "print('Number of edges:',len(edges))\n",
    "edges[:3]"
   ]
  },
  {
   "cell_type": "markdown",
   "metadata": {
    "slideshow": {
     "slide_type": "subslide"
    }
   },
   "source": [
    "## 4. Now use a loop to iterate over all remaining perturbations"
   ]
  },
  {
   "cell_type": "code",
   "execution_count": 10,
   "metadata": {},
   "outputs": [
    {
     "name": "stdout",
     "output_type": "stream",
     "text": [
      "Number of edges: 10418\n"
     ]
    },
    {
     "data": {
      "text/plain": [
       "[('ZNF217', 'BCORP1', np.float64(-0.8909980321828219)),\n",
       " ('ZNF217', 'ENSG00000289707', np.float64(-0.6030418232529909)),\n",
       " ('ZNF217', 'MT-TI', np.float64(0.6806038568444858))]"
      ]
     },
     "execution_count": 10,
     "metadata": {},
     "output_type": "execute_result"
    }
   ],
   "source": [
    "# Re-initialize empty list of edges\n",
    "edges=[]\n",
    "for target in targets:\n",
    "\t# Paste all your code in above two code blocks after the line `target=targets[0]`. Exclude `print` lines. Increase indentation.\n",
    "\t#### Your code starts here ####\n",
    "\t???\n",
    "\t##### Your code ends here #####\n",
    "print('Number of edges:',len(edges))\n",
    "edges[-3:]"
   ]
  },
  {
   "cell_type": "markdown",
   "metadata": {
    "slideshow": {
     "slide_type": "subslide"
    }
   },
   "source": [
    "## 4. Create pandas.Dataframe and networkx.DiGraph objects"
   ]
  },
  {
   "cell_type": "code",
   "execution_count": 11,
   "metadata": {},
   "outputs": [
    {
     "data": {
      "text/html": [
       "<div>\n",
       "<style scoped>\n",
       "    .dataframe tbody tr th:only-of-type {\n",
       "        vertical-align: middle;\n",
       "    }\n",
       "\n",
       "    .dataframe tbody tr th {\n",
       "        vertical-align: top;\n",
       "    }\n",
       "\n",
       "    .dataframe thead th {\n",
       "        text-align: right;\n",
       "    }\n",
       "</style>\n",
       "<table border=\"1\" class=\"dataframe\">\n",
       "  <thead>\n",
       "    <tr style=\"text-align: right;\">\n",
       "      <th></th>\n",
       "      <th>source</th>\n",
       "      <th>target</th>\n",
       "      <th>weight</th>\n",
       "    </tr>\n",
       "  </thead>\n",
       "  <tbody>\n",
       "    <tr>\n",
       "      <th>0</th>\n",
       "      <td>AKAP8</td>\n",
       "      <td>TSC22D4</td>\n",
       "      <td>-0.688081</td>\n",
       "    </tr>\n",
       "    <tr>\n",
       "      <th>1</th>\n",
       "      <td>AKAP8</td>\n",
       "      <td>FRMD8</td>\n",
       "      <td>0.660688</td>\n",
       "    </tr>\n",
       "    <tr>\n",
       "      <th>2</th>\n",
       "      <td>BPTF</td>\n",
       "      <td>ENSG00000217801</td>\n",
       "      <td>-0.999683</td>\n",
       "    </tr>\n",
       "    <tr>\n",
       "      <th>3</th>\n",
       "      <td>BPTF</td>\n",
       "      <td>ZNF593</td>\n",
       "      <td>1.284137</td>\n",
       "    </tr>\n",
       "    <tr>\n",
       "      <th>4</th>\n",
       "      <td>BPTF</td>\n",
       "      <td>TMEM39B</td>\n",
       "      <td>0.777404</td>\n",
       "    </tr>\n",
       "  </tbody>\n",
       "</table>\n",
       "</div>"
      ],
      "text/plain": [
       "  source           target    weight\n",
       "0  AKAP8          TSC22D4 -0.688081\n",
       "1  AKAP8            FRMD8  0.660688\n",
       "2   BPTF  ENSG00000217801 -0.999683\n",
       "3   BPTF           ZNF593  1.284137\n",
       "4   BPTF          TMEM39B  0.777404"
      ]
     },
     "execution_count": 11,
     "metadata": {},
     "output_type": "execute_result"
    }
   ],
   "source": [
    "df_grn=pd.DataFrame(edges,columns=['source','target','weight'])\n",
    "grn=nx.from_pandas_edgelist(df_grn,source='source',target='target',edge_attr='weight',create_using=nx.DiGraph())\n",
    "df_grn.head()"
   ]
  },
  {
   "cell_type": "markdown",
   "metadata": {
    "slideshow": {
     "slide_type": "slide"
    }
   },
   "source": [
    "## 5. Save network to file\n",
    "We have a minimal scenario where only an edge property file needs to be saved. More complex questions may also give rise to node properties such as expression level of each gene we want to consider altogether. They can be similarly saved as another file. The edge and node property files can then be loaded into Cytoscape. [Cytoscape](https://cytoscape.org/) is a very popular gene network analysis and visualization software. We will not look into it in this workshop."
   ]
  },
  {
   "cell_type": "code",
   "execution_count": 12,
   "metadata": {},
   "outputs": [
    {
     "name": "stdout",
     "output_type": "stream",
     "text": [
      "source\ttarget\tweight\n",
      "AKAP8\tTSC22D4\t-0.6880808472308385\n",
      "AKAP8\tFRMD8\t0.6606878405909893\n",
      "BPTF\tENSG00000217801\t-0.9996829704895553\n"
     ]
    }
   ],
   "source": [
    "# Save edge properties into tsv file\n",
    "#### Your code:df_grn.to_csv(path_out,???)\n",
    "# Show the first 4 lines of the file\n",
    "with open(path_out,'r') as f:\n",
    "\tfor _ in range(4):\n",
    "\t\tprint(f.readline().rstrip())"
   ]
  },
  {
   "cell_type": "markdown",
   "metadata": {
    "slideshow": {
     "slide_type": "subslide"
    }
   },
   "source": [
    "## 5. Install Cytoscape (optional)\n",
    "If you have reached here and want to eventually explore network visualization with Cytoscape in step 7, download and install [Cytoscape](https://cytoscape.org/) now while you work on step 6."
   ]
  },
  {
   "cell_type": "markdown",
   "metadata": {
    "slideshow": {
     "slide_type": "slide"
    }
   },
   "source": [
    "## 6. Basic properties of the network"
   ]
  },
  {
   "cell_type": "code",
   "execution_count": 13,
   "metadata": {},
   "outputs": [
    {
     "name": "stdout",
     "output_type": "stream",
     "text": [
      "Number of nodes/regulators/edges: 5100/34/10418\n"
     ]
    },
    {
     "data": {
      "text/plain": [
       "CBFB     2052\n",
       "MED12    1787\n",
       "YY1      1038\n",
       "ETS1      752\n",
       "PTEN      687\n",
       "dtype: int64"
      ]
     },
     "execution_count": 13,
     "metadata": {},
     "output_type": "execute_result"
    }
   ],
   "source": [
    "# Number of nodes\n",
    "#### Your code:nn=???\n",
    "# Number of edges\n",
    "#### Your code:ne=???\n",
    "# Out-degree (number of target genes)\n",
    "#### Your code:odegree=???\n",
    "# Convert to pandas.Series\n",
    "odegree=pd.Series(dict(odegree))\n",
    "# Limit to nodes with at least one target\n",
    "#### Your code:odegree=odegree[???]\n",
    "# Sort out-degree in descending order\n",
    "#### Your code:???\n",
    "# Create a dataframe of nodes with network information\n",
    "df_nodes=pd.DataFrame(odegree,index=odegree.index,columns=['outdegree'])\n",
    "print(f'Number of nodes/regulators/edges: {nn}/{len(odegree)}/{ne}')\n",
    "odegree.head()"
   ]
  },
  {
   "cell_type": "markdown",
   "metadata": {
    "slideshow": {
     "slide_type": "subslide"
    }
   },
   "source": [
    "## 6. Plot out-degree distribution"
   ]
  },
  {
   "cell_type": "code",
   "execution_count": 14,
   "metadata": {},
   "outputs": [
    {
     "data": {
      "image/png": "[encoded data removed]",
      "text/plain": [
       "<Figure size 320x200 with 1 Axes>"
      ]
     },
     "metadata": {},
     "output_type": "display_data"
    }
   ],
   "source": [
    "fig,ax=plt.subplots(figsize=(3.2,2))\n",
    "outdegree_values=list(odegree.values)\n",
    "occurence=[outdegree_values.count(x) for x in set(outdegree_values)]\n",
    "ax.stem(list(set(outdegree_values)),occurence,linefmt='black',markerfmt='ko',basefmt='none')\n",
    "ax.set_xscale('log')\n",
    "ax.set_xlabel('Out-degree (number of target genes)');ax.set_ylabel('Count')\n",
    "ax.set_title('Out-degree distribution'); plt.show()"
   ]
  },
  {
   "cell_type": "markdown",
   "metadata": {},
   "source": [
    "The number of targets varies greatly between different perturbed genes."
   ]
  },
  {
   "cell_type": "markdown",
   "metadata": {
    "slideshow": {
     "slide_type": "subslide"
    }
   },
   "source": [
    "## 6. Redraw valcano plot with out-degree"
   ]
  },
  {
   "cell_type": "code",
   "execution_count": 15,
   "metadata": {},
   "outputs": [
    {
     "data": {
      "image/png": "[encoded data removed]",
      "text/plain": [
       "<Figure size 300x200 with 1 Axes>"
      ]
     },
     "metadata": {},
     "output_type": "display_data"
    }
   ],
   "source": [
    "# Merge with differential expression results\n",
    "#### Your code:df_volcano=pd.merge(...,df_nodes,left_index=True,right_index=True,how='inner')\n",
    "fig,ax=plt.subplots(figsize=(3,2))\n",
    "# Draw scatter plot of log2 fold change vs -log10(p-value)\n",
    "#### Your code:df_volcano['lfc'],-np.log10(df_volcano['p']),s=np.log(df_volcano[...])*10,c='k',alpha=0.4,lw=0\n",
    "ax.set_xlabel('log2 fold change');ax.set_ylabel('-log10(p-value)')\n",
    "ax.set_title('Differential expression of perturbed genes'); plt.show()\n"
   ]
  },
  {
   "cell_type": "markdown",
   "metadata": {},
   "source": [
    "Target gene count does not strongly depend on DE strength of the perturbed genes. This is reassuring and indicating our results are not biased by KO quality."
   ]
  },
  {
   "cell_type": "markdown",
   "metadata": {
    "slideshow": {
     "slide_type": "slide"
    }
   },
   "source": [
    "## 7. Load network into Cytoscape\n",
    "Open Cytoscape. Go here:\n",
    "<img src=\"img/c1.png\" style=\"display: block; margin-left: auto; margin-right: auto;\" width=\"550\" onerror=\"this.onerror=null; this.src='https://raw.githubusercontent.com/grnlab/courses/refs/heads/master/2025_BBS764/img/c1.png';\"/>\n",
    "Then choose your `run/grn.tsv` file.\n"
   ]
  },
  {
   "cell_type": "markdown",
   "metadata": {
    "slideshow": {
     "slide_type": "subslide"
    }
   },
   "source": [
    "## 7. Assign column properties\n",
    "Make sure they show as below. If not, click on the column headers to change them.\n",
    "<img src=\"img/c2.png\" style=\"display: block; margin-left: auto; margin-right: auto;\" width=\"800\" onerror=\"this.onerror=null; this.src='https://raw.githubusercontent.com/grnlab/courses/refs/heads/master/2025_BBS764/img/c2.png';\"/>\n",
    "After clicking OK, Cytoscape may take some time to calculate the layout, which is the position of each node. Then you will see something like a light blue disc."
   ]
  },
  {
   "cell_type": "markdown",
   "metadata": {
    "slideshow": {
     "slide_type": "subslide"
    }
   },
   "source": [
    "## 7. Show network details\n",
    "Actually the blue disc is the collection of nodes of the network. You can show network details with:\n",
    "<img src=\"img/c3.png\" style=\"display: block; margin-left: auto; margin-right: auto;\" width=\"400\" onerror=\"this.onerror=null; this.src='https://raw.githubusercontent.com/grnlab/courses/refs/heads/master/2025_BBS764/img/c3.png';\"/>\n",
    "Then you can zoom in/out with control/command+mouse scroll."
   ]
  },
  {
   "cell_type": "markdown",
   "metadata": {
    "slideshow": {
     "slide_type": "subslide"
    }
   },
   "source": [
    "## 7. Search for a gene\n",
    "On the top right, you can search for a node by name.\n",
    "<img src=\"img/c4.png\" style=\"display: block; margin-left: auto; margin-right: auto;\" width=\"400\" onerror=\"this.onerror=null; this.src='https://raw.githubusercontent.com/grnlab/courses/refs/heads/master/2025_BBS764/img/c4.png';\"/>\n",
    "Try searching for STAT1. STAT1 will be highlighted in yellow and its edges in red. However, some of them can be blocked by other genes.\n",
    "<img src=\"img/c5.png\" style=\"display: block; margin-left: auto; margin-right: auto;\" width=\"200\" onerror=\"this.onerror=null; this.src='https://raw.githubusercontent.com/grnlab/courses/refs/heads/master/2025_BBS764/img/c5.png';\"/>"
   ]
  },
  {
   "cell_type": "markdown",
   "metadata": {
    "slideshow": {
     "slide_type": "subslide"
    }
   },
   "source": [
    "## 7. Get a subnetwork\n",
    "Make sure STAT1 is still selected. If not, search for it again. Then select its target genes in the network:\n",
    "<img src=\"img/c6.png\" style=\"display: block; margin-left: auto; margin-right: auto;\" width=\"500\" onerror=\"this.onerror=null; this.src='https://raw.githubusercontent.com/grnlab/courses/refs/heads/master/2025_BBS764/img/c6.png';\"/>\n",
    "You can see more genes are highlighted due to selection. Then get a subnetwork of these genes:\n",
    "<img src=\"img/c7.png\" style=\"display: block; margin-left: auto; margin-right: auto;\" width=\"250\" onerror=\"this.onerror=null; this.src='https://raw.githubusercontent.com/grnlab/courses/refs/heads/master/2025_BBS764/img/c6.png';\"/>\n"
   ]
  },
  {
   "cell_type": "markdown",
   "metadata": {
    "slideshow": {
     "slide_type": "subslide"
    }
   },
   "source": [
    "## 7. Show arrow direction\n",
    "The subnetwork is now clearer. But it's still unclear which gene regulates which because edge direction is not visible:\n",
    "<img src=\"img/c8.png\" style=\"display: block; margin-left: auto; margin-right: auto;\" width=\"200\" onerror=\"this.onerror=null; this.src='https://raw.githubusercontent.com/grnlab/courses/refs/heads/master/2025_BBS764/img/c8.png';\"/>\n",
    "Let's go to visualization style\n",
    "\n",
    "<img src=\"img/c9.png\" width=\"200\" onerror=\"this.onerror=null; this.src='https://raw.githubusercontent.com/grnlab/courses/refs/heads/master/2025_BBS764/img/c9.png';\"/> <img src=\"img/c10.png\" width=\"300\" onerror=\"this.onerror=null; this.src='https://raw.githubusercontent.com/grnlab/courses/refs/heads/master/2025_BBS764/img/c10.png';\"/>\n",
    "\n",
    "Then change \"Target Arrow Shape\" to this:\n",
    "<img src=\"img/c11.png\" style=\"display: block; margin-left: auto; margin-right: auto;\" width=\"200\" onerror=\"this.onerror=null; this.src='https://raw.githubusercontent.com/grnlab/courses/refs/heads/master/2025_BBS764/img/c11.png';\"/>\n"
   ]
  },
  {
   "cell_type": "markdown",
   "metadata": {
    "slideshow": {
     "slide_type": "subslide"
    }
   },
   "source": [
    "## 7. Change edge color\n",
    "We can show gene activation/repression with red/blue colors. Unfold \"Stroke Color (Unselected)\":\n",
    "<img src=\"img/c12.png\" style=\"display: block; margin-left: auto; margin-right: auto;\" width=\"400\" onerror=\"this.onerror=null; this.src='https://raw.githubusercontent.com/grnlab/courses/refs/heads/master/2025_BBS764/img/c12.png';\"/>\n",
    "This allows us to color each edge based its columns. Here we want the color to depend on edge weight, which is how much the target gene's log2FC per regulator's log2FC. \n",
    "<img src=\"img/c13.png\" style=\"display: block; margin-left: auto; margin-right: auto;\" width=\"400\" onerror=\"this.onerror=null; this.src='https://raw.githubusercontent.com/grnlab/courses/refs/heads/master/2025_BBS764/img/c13.png';\"/>\n",
    "Let's make the color change continuously.\n",
    "<img src=\"img/c14.png\" style=\"display: block; margin-left: auto; margin-right: auto;\" width=\"400\" onerror=\"this.onerror=null; this.src='https://raw.githubusercontent.com/grnlab/courses/refs/heads/master/2025_BBS764/img/c14.png';\"/>\n"
   ]
  },
  {
   "cell_type": "markdown",
   "metadata": {
    "slideshow": {
     "slide_type": "slide"
    }
   },
   "source": [
    "## 8. The END\n",
    "Congratulations! You've completed this workshop.\n",
    "\n",
    "Homework will be available later today over slack. It will be ungraded."
   ]
  }
 ],
 "metadata": {
  "kernelspec": {
   "display_name": "Python 3",
   "language": "python",
   "name": "python3"
  },
  "language_info": {
   "codemirror_mode": {
    "name": "ipython",
    "version": 3
   },
   "file_extension": ".py",
   "mimetype": "text/x-python",
   "name": "python",
   "nbconvert_exporter": "python",
   "pygments_lexer": "ipython3",
   "version": "3.12.4"
  }
 },
 "nbformat": 4,
 "nbformat_minor": 2
}